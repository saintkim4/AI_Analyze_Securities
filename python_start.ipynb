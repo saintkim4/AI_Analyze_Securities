{
 "cells": [
  {
   "cell_type": "markdown",
   "id": "1d9869db",
   "metadata": {},
   "source": [
    "# str은 문자열을 나타낸다. \n",
    "말그대로 문자 순서대로 나열된 것이며, 가공되지 않은 원시데이터는\n",
    "문자열 형태로 저장되어 있으므로, python을 이용하여 정보를 가공하는 것이 python 데이터의 기본이다."
   ]
  },
  {
   "cell_type": "code",
   "execution_count": 2,
   "id": "bcc8f22e",
   "metadata": {},
   "outputs": [
    {
     "data": {
      "text/plain": [
       "str"
      ]
     },
     "execution_count": 2,
     "metadata": {},
     "output_type": "execute_result"
    }
   ],
   "source": [
    "type(\"hello, world\")"
   ]
  },
  {
   "cell_type": "markdown",
   "id": "8a7c16b1",
   "metadata": {},
   "source": [
    "# 인덱싱은 문자열에 숫자를 사용하여 특정 위치를 지정\n",
    "아래의 예제처럼 python 문자열 길이는 6이지만~ 첫글자 p의 인덱스는 0 또는 -6이다\n",
    "제일 끝인 n의 인덱는 5 또는 -1이다."
   ]
  },
  {
   "cell_type": "code",
   "execution_count": 3,
   "id": "2138f69b",
   "metadata": {},
   "outputs": [
    {
     "data": {
      "text/plain": [
       "6"
      ]
     },
     "execution_count": 3,
     "metadata": {},
     "output_type": "execute_result"
    }
   ],
   "source": [
    "word = \"python\"\n",
    "len(word)"
   ]
  },
  {
   "cell_type": "code",
   "execution_count": 4,
   "id": "c6bf1d38",
   "metadata": {},
   "outputs": [
    {
     "data": {
      "text/plain": [
       "'python'"
      ]
     },
     "execution_count": 4,
     "metadata": {},
     "output_type": "execute_result"
    }
   ],
   "source": [
    "word[0] + word[1] + word[2] + word[3] + word[4] + word[5]"
   ]
  },
  {
   "cell_type": "code",
   "execution_count": 5,
   "id": "663c49b9",
   "metadata": {},
   "outputs": [
    {
     "data": {
      "text/plain": [
       "'python'"
      ]
     },
     "execution_count": 5,
     "metadata": {},
     "output_type": "execute_result"
    }
   ],
   "source": [
    "word[-6] + word[-5] + word[-4] + word[-3] + word[-2] + word[-1]"
   ]
  },
  {
   "cell_type": "markdown",
   "id": "de8c6856",
   "metadata": {},
   "source": [
    "# 슬라이딩\n",
    "인덱스와 \":\" 클론을 이용하여 문자열의 특정 부분만을 잘라 낼 수 있다."
   ]
  },
  {
   "cell_type": "code",
   "execution_count": 7,
   "id": "26e05476",
   "metadata": {},
   "outputs": [
    {
     "data": {
      "text/plain": [
       "'python'"
      ]
     },
     "execution_count": 7,
     "metadata": {},
     "output_type": "execute_result"
    }
   ],
   "source": [
    "word[0:6]"
   ]
  },
  {
   "cell_type": "code",
   "execution_count": 8,
   "id": "94c8be58",
   "metadata": {},
   "outputs": [
    {
     "data": {
      "text/plain": [
       "'python'"
      ]
     },
     "execution_count": 8,
     "metadata": {},
     "output_type": "execute_result"
    }
   ],
   "source": [
    "word[0:]"
   ]
  },
  {
   "cell_type": "code",
   "execution_count": 12,
   "id": "e7735464",
   "metadata": {},
   "outputs": [
    {
     "data": {
      "text/plain": [
       "'pyt'"
      ]
     },
     "execution_count": 12,
     "metadata": {},
     "output_type": "execute_result"
    }
   ],
   "source": [
    "word[:3]"
   ]
  },
  {
   "cell_type": "code",
   "execution_count": 11,
   "id": "0c0e0bcb",
   "metadata": {},
   "outputs": [
    {
     "data": {
      "text/plain": [
       "'pytho'"
      ]
     },
     "execution_count": 11,
     "metadata": {},
     "output_type": "execute_result"
    }
   ],
   "source": [
    "word[:-1]"
   ]
  },
  {
   "cell_type": "markdown",
   "id": "20e32655",
   "metadata": {},
   "source": [
    "# python 산술 연산"
   ]
  },
  {
   "cell_type": "code",
   "execution_count": 13,
   "id": "e665e5c6",
   "metadata": {},
   "outputs": [
    {
     "data": {
      "text/plain": [
       "3"
      ]
     },
     "execution_count": 13,
     "metadata": {},
     "output_type": "execute_result"
    }
   ],
   "source": [
    "1+2"
   ]
  },
  {
   "cell_type": "code",
   "execution_count": 14,
   "id": "c84c9f2c",
   "metadata": {},
   "outputs": [
    {
     "data": {
      "text/plain": [
       "-1"
      ]
     },
     "execution_count": 14,
     "metadata": {},
     "output_type": "execute_result"
    }
   ],
   "source": [
    "3-4"
   ]
  },
  {
   "cell_type": "code",
   "execution_count": 15,
   "id": "54b1bfaa",
   "metadata": {},
   "outputs": [
    {
     "data": {
      "text/plain": [
       "30"
      ]
     },
     "execution_count": 15,
     "metadata": {},
     "output_type": "execute_result"
    }
   ],
   "source": [
    "5*6"
   ]
  },
  {
   "cell_type": "code",
   "execution_count": 16,
   "id": "b80db862",
   "metadata": {},
   "outputs": [
    {
     "data": {
      "text/plain": [
       "256"
      ]
     },
     "execution_count": 16,
     "metadata": {},
     "output_type": "execute_result"
    }
   ],
   "source": [
    "2 ** 8 # 2의 8승, pow(2, 8)와 동일함"
   ]
  },
  {
   "cell_type": "code",
   "execution_count": 17,
   "id": "64ab54cb",
   "metadata": {},
   "outputs": [
    {
     "data": {
      "text/plain": [
       "256"
      ]
     },
     "execution_count": 17,
     "metadata": {},
     "output_type": "execute_result"
    }
   ],
   "source": [
    "2*2*2*2*2*2*2*2"
   ]
  },
  {
   "cell_type": "code",
   "execution_count": 18,
   "id": "dc0d910e",
   "metadata": {},
   "outputs": [
    {
     "data": {
      "text/plain": [
       "1.6666666666666667"
      ]
     },
     "execution_count": 18,
     "metadata": {},
     "output_type": "execute_result"
    }
   ],
   "source": [
    "5/3"
   ]
  },
  {
   "cell_type": "code",
   "execution_count": 20,
   "id": "cbab2a4d",
   "metadata": {},
   "outputs": [
    {
     "data": {
      "text/plain": [
       "1"
      ]
     },
     "execution_count": 20,
     "metadata": {},
     "output_type": "execute_result"
    }
   ],
   "source": [
    "5//3 # 나누셈의 결과 몫(나머지 제외)"
   ]
  },
  {
   "cell_type": "code",
   "execution_count": 22,
   "id": "9b62b674",
   "metadata": {},
   "outputs": [
    {
     "data": {
      "text/plain": [
       "2"
      ]
     },
     "execution_count": 22,
     "metadata": {},
     "output_type": "execute_result"
    }
   ],
   "source": [
    "5%3 #나누셈 결과의 나머지(몫 제외), 자동 반올림"
   ]
  },
  {
   "cell_type": "code",
   "execution_count": 23,
   "id": "8b1362dd",
   "metadata": {},
   "outputs": [],
   "source": [
    "x = 2"
   ]
  },
  {
   "cell_type": "code",
   "execution_count": 24,
   "id": "fbaf3266",
   "metadata": {},
   "outputs": [],
   "source": [
    "x += 1 # x = x + 1 괴 동일. python은 단항증감연산자(x++, --x)지원 안함."
   ]
  },
  {
   "cell_type": "code",
   "execution_count": 25,
   "id": "635f723c",
   "metadata": {},
   "outputs": [
    {
     "data": {
      "text/plain": [
       "3"
      ]
     },
     "execution_count": 25,
     "metadata": {},
     "output_type": "execute_result"
    }
   ],
   "source": [
    "x"
   ]
  },
  {
   "cell_type": "markdown",
   "id": "051b3547",
   "metadata": {},
   "source": [
    "# if 조건문\n",
    "if 조건문을 만족하지 않으면,  elif로 판단하다며, 만일 모두 만족하지 않을 경우\n",
    "else문을 실행한다.(elif, else는 생략 할 수있다.)"
   ]
  },
  {
   "cell_type": "code",
   "execution_count": 35,
   "id": "f334d5c4",
   "metadata": {},
   "outputs": [
    {
     "name": "stdout",
     "output_type": "stream",
     "text": [
      "RSI 88 과매수\n"
     ]
    }
   ],
   "source": [
    "# 예제 상대 강도지수를 이용한 시장 과매수 상태인지 아닌지 확인하기\n",
    "# 70이상은 과매수 30미만을 과매도 진입하는 첫단계 신호임\n",
    "rsi = 88\n",
    "if rsi > 70: # ris 변수가 70보다 커지면 작동\n",
    "    print('RSI', rsi, '과매수')\n",
    "elif rsi < 30:\n",
    "        print(\"RSI\", rsi, '과매도')\n",
    "else:\n",
    "    print('....')\n"
   ]
  },
  {
   "cell_type": "markdown",
   "id": "f10532dc",
   "metadata": {},
   "source": [
    "\n",
    "# for 반복문\n",
    "지정된 횟수만큼 반복한다, for 뒤에 in 연산자 뒤에는 리스트형의 객체나 range()를\n",
    "사용 할 수 있다"
   ]
  },
  {
   "cell_type": "code",
   "execution_count": 40,
   "id": "b79956cf",
   "metadata": {},
   "outputs": [
    {
     "name": "stdout",
     "output_type": "stream",
     "text": [
      "1\n",
      "3\n",
      "5\n"
     ]
    }
   ],
   "source": [
    "for i in [1, 3, 5]:\n",
    "    print(i)"
   ]
  },
  {
   "cell_type": "code",
   "execution_count": 51,
   "id": "43f8d730",
   "metadata": {},
   "outputs": [
    {
     "name": "stdout",
     "output_type": "stream",
     "text": [
      "1\n",
      "3\n",
      "5\n"
     ]
    }
   ],
   "source": [
    "for i in range(1, 7, 2): # range(시작값, 멈춤값, 증가값)\n",
    "    print(i)"
   ]
  },
  {
   "cell_type": "markdown",
   "id": "11018ea5",
   "metadata": {},
   "source": [
    "# rage를 이해하자\n",
    "(시작값, 멈춤값, 증가값)\n",
    "시작값: 1일 경우 1부터 시작을 말한다.\n",
    "멈춤값: 시작값이 1일 경우 1부터 시작해 증가하다 멈추는 값(예제는 7에 멈춘다)\n",
    "증가값: 시작값 1 부터 멈춤값 7까지 증가시, 증가되는 값(예제는 2씩 증가한다.)"
   ]
  },
  {
   "cell_type": "code",
   "execution_count": 59,
   "id": "5a3dba24",
   "metadata": {},
   "outputs": [
    {
     "name": "stdout",
     "output_type": "stream",
     "text": [
      "0\n",
      "1\n",
      "2\n",
      "3\n",
      "4\n",
      "5\n",
      "6\n"
     ]
    }
   ],
   "source": [
    "for i in range(7): # 시작과 step은 생략 가능하다.\n",
    "    print(i)"
   ]
  },
  {
   "cell_type": "code",
   "execution_count": 60,
   "id": "f706bb9d",
   "metadata": {},
   "outputs": [
    {
     "name": "stdout",
     "output_type": "stream",
     "text": [
      "1\n",
      "4\n",
      "7\n"
     ]
    }
   ],
   "source": [
    "for i in range(1, 10, 3):\n",
    "    print(i)"
   ]
  },
  {
   "cell_type": "markdown",
   "id": "72e532c6",
   "metadata": {},
   "source": [
    "# enumerate()를 이용한 python 반복문\n",
    "enumerate(반복자료형[, 인덱스의 시작값])"
   ]
  },
  {
   "cell_type": "code",
   "execution_count": 68,
   "id": "0270c807",
   "metadata": {},
   "outputs": [
    {
     "name": "stdout",
     "output_type": "stream",
     "text": [
      "1 FB\n",
      "2 AMZN\n",
      "3 AAPL\n",
      "4 NFLX\n",
      "5 GOOGL\n"
     ]
    }
   ],
   "source": [
    "FAANG = ['FB', 'AMZN', 'AAPL', 'NFLX', 'GOOGL']\n",
    "for index, symbol in enumerate(FAANG, 1):\n",
    "    print(index, symbol)"
   ]
  },
  {
   "cell_type": "markdown",
   "id": "3df299b5",
   "metadata": {},
   "source": [
    "# while 반복문\n",
    "range는 while로 단순하게 대체가 가능한다."
   ]
  },
  {
   "cell_type": "code",
   "execution_count": 74,
   "id": "c40025e7",
   "metadata": {},
   "outputs": [
    {
     "name": "stdout",
     "output_type": "stream",
     "text": [
      "1\n",
      "3\n",
      "5\n"
     ]
    }
   ],
   "source": [
    "i = 1 #시작값 1\n",
    "while i < 7 : # 멈춤값 7\n",
    "    print(i)\n",
    "    i += 2 #증가값 2"
   ]
  },
  {
   "cell_type": "markdown",
   "id": "3e1c0665",
   "metadata": {},
   "source": [
    "# while else와 for else\n",
    "while 반복문에 else를 넣어 반복을 종료하고 특정 조건을 실행 할 수있다.\n",
    "단 break는 모두 종료된다."
   ]
  },
  {
   "cell_type": "code",
   "execution_count": 98,
   "id": "fc1ed63e",
   "metadata": {},
   "outputs": [
    {
     "name": "stdout",
     "output_type": "stream",
     "text": [
      "1 ==============\n",
      "1\n",
      "2 ==============\n",
      "2 -------------\n",
      "3 ==============\n",
      "3\n",
      "4 ==============\n",
      "4 -------------\n",
      "5 ==============\n",
      "5\n",
      "6 ==============\n",
      "6 -------------\n",
      "7 ==============\n",
      "7 end\n"
     ]
    }
   ],
   "source": [
    "i = 0 # 시작값 0\n",
    "while i >= 0: #i가 0보다 크거나 같다면\n",
    "    i += 1 # 증가값 1\n",
    "    print(i, '==============')\n",
    "    if (i % 2) == 0: # 나누셈 결과의 나머지 몫(자동 반올림) == 0(== 값이 동일)\n",
    "                     # 나머지 몫에 대해 구분하면 0 or 1 이나옴\n",
    "        print(i, '-------------')\n",
    "        continue # 아래 코드를 실행하지 않고 건너뜀\n",
    "    if i > 5:\n",
    "        print(i, 'end')\n",
    "        break\n",
    "    print(i)\n",
    "else:\n",
    "    print('Condition is False')\n",
    "        "
   ]
  },
  {
   "cell_type": "code",
   "execution_count": 80,
   "id": "73ad224a",
   "metadata": {},
   "outputs": [
    {
     "data": {
      "text/plain": [
       "1"
      ]
     },
     "execution_count": 80,
     "metadata": {},
     "output_type": "execute_result"
    }
   ],
   "source": [
    "1 % 2"
   ]
  },
  {
   "cell_type": "code",
   "execution_count": 81,
   "id": "58f8f9c1",
   "metadata": {},
   "outputs": [
    {
     "data": {
      "text/plain": [
       "0"
      ]
     },
     "execution_count": 81,
     "metadata": {},
     "output_type": "execute_result"
    }
   ],
   "source": [
    "2 % 2"
   ]
  },
  {
   "cell_type": "code",
   "execution_count": 82,
   "id": "a9d31691",
   "metadata": {},
   "outputs": [
    {
     "data": {
      "text/plain": [
       "1"
      ]
     },
     "execution_count": 82,
     "metadata": {},
     "output_type": "execute_result"
    }
   ],
   "source": [
    "3 % 2"
   ]
  },
  {
   "cell_type": "code",
   "execution_count": 83,
   "id": "51462767",
   "metadata": {},
   "outputs": [
    {
     "data": {
      "text/plain": [
       "0"
      ]
     },
     "execution_count": 83,
     "metadata": {},
     "output_type": "execute_result"
    }
   ],
   "source": [
    "4 % 2"
   ]
  },
  {
   "cell_type": "code",
   "execution_count": 84,
   "id": "d47cc179",
   "metadata": {},
   "outputs": [
    {
     "data": {
      "text/plain": [
       "1"
      ]
     },
     "execution_count": 84,
     "metadata": {},
     "output_type": "execute_result"
    }
   ],
   "source": [
    "5 % 2"
   ]
  },
  {
   "cell_type": "markdown",
   "id": "f0c8f692",
   "metadata": {},
   "source": [
    "# try except 예외 처리 하기\n",
    "어떤 수를 0으로 나누는 연산은 수학적으로 불가능하다. 따라서 예외가 발생할 부분을\n",
    "try 영역으로 지정하고 except 영역에서에서 예외 처리하여 강제 종료를 막고\n",
    "except 클라스를 문자열로 출력해 디버깅 할 수있다."
   ]
  },
  {
   "cell_type": "code",
   "execution_count": 100,
   "id": "13bc7b41",
   "metadata": {},
   "outputs": [
    {
     "name": "stdout",
     "output_type": "stream",
     "text": [
      "Exception occured : division by zero\n"
     ]
    }
   ],
   "source": [
    "try:\n",
    "    1/0\n",
    "except Exception as e:\n",
    "    print('Exception occured :', str(e))"
   ]
  },
  {
   "cell_type": "code",
   "execution_count": null,
   "id": "f4aa2aeb",
   "metadata": {},
   "outputs": [],
   "source": []
  }
 ],
 "metadata": {
  "kernelspec": {
   "display_name": "Python 3",
   "language": "python",
   "name": "python3"
  },
  "language_info": {
   "codemirror_mode": {
    "name": "ipython",
    "version": 3
   },
   "file_extension": ".py",
   "mimetype": "text/x-python",
   "name": "python",
   "nbconvert_exporter": "python",
   "pygments_lexer": "ipython3",
   "version": "3.8.10"
  }
 },
 "nbformat": 4,
 "nbformat_minor": 5
}
